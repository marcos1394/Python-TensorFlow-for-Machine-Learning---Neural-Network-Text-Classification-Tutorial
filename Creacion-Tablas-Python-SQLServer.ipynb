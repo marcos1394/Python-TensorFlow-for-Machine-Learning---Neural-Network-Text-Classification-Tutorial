{
  "nbformat": 4,
  "nbformat_minor": 0,
  "metadata": {
    "colab": {
      "name": "Untitled0.ipynb",
      "provenance": []
    },
    "kernelspec": {
      "name": "python3",
      "display_name": "Python 3"
    },
    "language_info": {
      "name": "python"
    }
  },
  "cells": [
    {
      "cell_type": "code",
      "execution_count": 4,
      "metadata": {
        "colab": {
          "base_uri": "https://localhost:8080/"
        },
        "id": "MPuCo2smbSFJ",
        "outputId": "c2c2d366-4489-4d18-830f-97bf0d24f358"
      },
      "outputs": [
        {
          "output_type": "stream",
          "name": "stdout",
          "text": [
            "Looking in indexes: https://pypi.org/simple, https://us-python.pkg.dev/colab-wheels/public/simple/\n",
            "Collecting pyodbc\n",
            "  Downloading pyodbc-4.0.32.tar.gz (280 kB)\n",
            "\u001b[K     |████████████████████████████████| 280 kB 8.5 MB/s \n",
            "\u001b[?25hBuilding wheels for collected packages: pyodbc\n",
            "  Building wheel for pyodbc (setup.py) ... \u001b[?25l\u001b[?25hdone\n",
            "  Created wheel for pyodbc: filename=pyodbc-4.0.32-cp37-cp37m-linux_x86_64.whl size=287305 sha256=9f507c91a591ebe346bce77114548fece2c9fa593e9f33310f462a37b59fa98c\n",
            "  Stored in directory: /root/.cache/pip/wheels/2e/9c/da/8652fd42e0f662015554f00a9e96fe4f438dfd1ef59787879e\n",
            "Successfully built pyodbc\n",
            "Installing collected packages: pyodbc\n",
            "Successfully installed pyodbc-4.0.32\n"
          ]
        }
      ],
      "source": [
        "#instalar en el prompt de anaconda con el pip install pyodbc\n",
        "!pip install pyodbc\n",
        "import pyodbc"
      ]
    },
    {
      "cell_type": "code",
      "source": [
        "#creamos una variable en donde guardaremos los datos de conexión de nuestro servidor\n",
        "server = 'PROBOOK-MARCOS'"
      ],
      "metadata": {
        "id": "4CkVQp7Db-eW"
      },
      "execution_count": null,
      "outputs": []
    },
    {
      "cell_type": "code",
      "source": [
        "#creamos una variable en donde guardaremos el nombre de la base de datos a utilizar\n",
        "bd = 'DB_PYTHON'\n",
        "#nos conectamos a nuestro servidor de SQL Server\n",
        "conexion = pyodbc.connect(drivers='SQL server', host = server, database =  bd)\n",
        "print('conexión exitosa')\n",
        "#creamos un cursor para almacenar la información en memoria\n",
        "cursor = conexion.cursor()\n",
        "#indicamos lo que queremos que se lleve a cabo en memoria\n",
        "cursor.execute(\"CREATE TABLE Ciudad(Ciudad VARCHAR(255) NOT NULL, Pais VARCHAR(100) NOT NULL, PRIMARY KEY (Ciudad))\")\n",
        "#creamos una lista de tuplas de ciudades y sus paises\n",
        "Varias_Ciudades = [\n",
        "                   ('Aberdren', 'United Kingdom'),\n",
        "                   ('Albin', 'United States'),\n",
        "                   ('Arlington', 'United States'),\n",
        "                   ('Beavercreek', 'United States'),\n",
        "                   ('Beckley', 'United States')\n",
        "]\n",
        "\n",
        "#insertamos los datos en la tabla ciudad\n",
        "cursor.executemany(\"INSERT INTO Ciudad VALUES(?, ?)\", Varias_Ciudades)\n",
        "#guardamos los cambios hechos a la base de datos\n",
        "cursor.commit()\n",
        "#nos aseguramos de cerrar la conexión\n",
        "conexion.close()"
      ],
      "metadata": {
        "id": "zwRihxWbrjIK"
      },
      "execution_count": null,
      "outputs": []
    }
  ]
}