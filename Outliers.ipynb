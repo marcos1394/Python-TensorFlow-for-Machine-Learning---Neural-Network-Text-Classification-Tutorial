{
 "cells": [
  {
   "cell_type": "code",
   "execution_count": 1,
   "id": "19bc92f7",
   "metadata": {},
   "outputs": [],
   "source": [
    "import pandas as pd\n",
    "import numpy as np"
   ]
  },
  {
   "cell_type": "code",
   "execution_count": 2,
   "id": "bc250564",
   "metadata": {},
   "outputs": [
    {
     "data": {
      "text/html": [
       "<div>\n",
       "<style scoped>\n",
       "    .dataframe tbody tr th:only-of-type {\n",
       "        vertical-align: middle;\n",
       "    }\n",
       "\n",
       "    .dataframe tbody tr th {\n",
       "        vertical-align: top;\n",
       "    }\n",
       "\n",
       "    .dataframe thead th {\n",
       "        text-align: right;\n",
       "    }\n",
       "</style>\n",
       "<table border=\"1\" class=\"dataframe\">\n",
       "  <thead>\n",
       "    <tr style=\"text-align: right;\">\n",
       "      <th></th>\n",
       "      <th>Nombre</th>\n",
       "      <th>Desastre</th>\n",
       "      <th>Fecha Inicio</th>\n",
       "      <th>Fecha Fin</th>\n",
       "      <th>Costo Millones de Dolares</th>\n",
       "      <th>Muertes</th>\n",
       "      <th>Duracion Evento</th>\n",
       "    </tr>\n",
       "  </thead>\n",
       "  <tbody>\n",
       "    <tr>\n",
       "      <th>0</th>\n",
       "      <td>Southern Severe Storms and Flooding (April 1980)</td>\n",
       "      <td>Flooding</td>\n",
       "      <td>1980-04-10</td>\n",
       "      <td>1980-04-17</td>\n",
       "      <td>2473.8</td>\n",
       "      <td>7.0</td>\n",
       "      <td>7 days</td>\n",
       "    </tr>\n",
       "    <tr>\n",
       "      <th>1</th>\n",
       "      <td>Hurricane Allen (August 1980)</td>\n",
       "      <td>Tropical Cyclone</td>\n",
       "      <td>1980-08-07</td>\n",
       "      <td>1980-08-11</td>\n",
       "      <td>2012.0</td>\n",
       "      <td>13.0</td>\n",
       "      <td>4 days</td>\n",
       "    </tr>\n",
       "    <tr>\n",
       "      <th>2</th>\n",
       "      <td>Central/Eastern Drought/Heat Wave (Summer-Fall...</td>\n",
       "      <td>Drought</td>\n",
       "      <td>1980-06-01</td>\n",
       "      <td>1980-11-30</td>\n",
       "      <td>36573.0</td>\n",
       "      <td>1260.0</td>\n",
       "      <td>182 days</td>\n",
       "    </tr>\n",
       "    <tr>\n",
       "      <th>3</th>\n",
       "      <td>Florida Freeze (January 1981)</td>\n",
       "      <td>Freeze</td>\n",
       "      <td>1981-01-12</td>\n",
       "      <td>1981-01-14</td>\n",
       "      <td>1864.7</td>\n",
       "      <td>0.0</td>\n",
       "      <td>2 days</td>\n",
       "    </tr>\n",
       "    <tr>\n",
       "      <th>4</th>\n",
       "      <td>Severe Storms, Flash Floods, Hail, Tornadoes (...</td>\n",
       "      <td>Severe Storm</td>\n",
       "      <td>1981-05-05</td>\n",
       "      <td>1981-05-10</td>\n",
       "      <td>1268.6</td>\n",
       "      <td>20.0</td>\n",
       "      <td>5 days</td>\n",
       "    </tr>\n",
       "    <tr>\n",
       "      <th>5</th>\n",
       "      <td>Midwest/Southeast/Northeast Winter Storm, Cold...</td>\n",
       "      <td>Winter Storm</td>\n",
       "      <td>1982-01-08</td>\n",
       "      <td>1982-01-16</td>\n",
       "      <td>1992.7</td>\n",
       "      <td>85.0</td>\n",
       "      <td>8 days</td>\n",
       "    </tr>\n",
       "    <tr>\n",
       "      <th>6</th>\n",
       "      <td>Midwest/Plains/Southeast Tornadoes (April 1982)</td>\n",
       "      <td>Severe Storm</td>\n",
       "      <td>1982-04-02</td>\n",
       "      <td>1982-04-04</td>\n",
       "      <td>1444.8</td>\n",
       "      <td>33.0</td>\n",
       "      <td>2 days</td>\n",
       "    </tr>\n",
       "    <tr>\n",
       "      <th>7</th>\n",
       "      <td>Severe Storms (June 1982)</td>\n",
       "      <td>Severe Storm</td>\n",
       "      <td>1982-05-31</td>\n",
       "      <td>1982-06-10</td>\n",
       "      <td>1420.6</td>\n",
       "      <td>30.0</td>\n",
       "      <td>10 days</td>\n",
       "    </tr>\n",
       "    <tr>\n",
       "      <th>8</th>\n",
       "      <td>Gulf States Storms and Flooding (December 1982...</td>\n",
       "      <td>Flooding</td>\n",
       "      <td>1982-12-01</td>\n",
       "      <td>1983-01-15</td>\n",
       "      <td>4454.6</td>\n",
       "      <td>45.0</td>\n",
       "      <td>45 days</td>\n",
       "    </tr>\n",
       "    <tr>\n",
       "      <th>9</th>\n",
       "      <td>Western Storms and Flooding (December 1982-Mar...</td>\n",
       "      <td>Flooding</td>\n",
       "      <td>1982-12-13</td>\n",
       "      <td>1983-03-31</td>\n",
       "      <td>4348.9</td>\n",
       "      <td>50.0</td>\n",
       "      <td>108 days</td>\n",
       "    </tr>\n",
       "    <tr>\n",
       "      <th>10</th>\n",
       "      <td>Hurricane Alicia (August 1983)</td>\n",
       "      <td>Tropical Cyclone</td>\n",
       "      <td>1983-08-17</td>\n",
       "      <td>1983-08-20</td>\n",
       "      <td>8490.0</td>\n",
       "      <td>21.0</td>\n",
       "      <td>3 days</td>\n",
       "    </tr>\n",
       "    <tr>\n",
       "      <th>11</th>\n",
       "      <td>Southeast Drought (Summer 1983)</td>\n",
       "      <td>Drought</td>\n",
       "      <td>1983-06-01</td>\n",
       "      <td>1983-08-31</td>\n",
       "      <td>8595.9</td>\n",
       "      <td>0.0</td>\n",
       "      <td>91 days</td>\n",
       "    </tr>\n",
       "    <tr>\n",
       "      <th>12</th>\n",
       "      <td>Freeze / Cold Wave (December 1983)</td>\n",
       "      <td>Freeze</td>\n",
       "      <td>1983-12-15</td>\n",
       "      <td>1983-12-25</td>\n",
       "      <td>5816.9</td>\n",
       "      <td>151.0</td>\n",
       "      <td>10 days</td>\n",
       "    </tr>\n",
       "    <tr>\n",
       "      <th>13</th>\n",
       "      <td>Tornadoes, Severe Storms, Floods (Spring 1984)</td>\n",
       "      <td>Severe Storm</td>\n",
       "      <td>1984-03-27</td>\n",
       "      <td>1984-04-07</td>\n",
       "      <td>1670.5</td>\n",
       "      <td>80.0</td>\n",
       "      <td>11 days</td>\n",
       "    </tr>\n",
       "    <tr>\n",
       "      <th>14</th>\n",
       "      <td>Severe Storms and Hail (June 1984)</td>\n",
       "      <td>Severe Storm</td>\n",
       "      <td>1984-06-13</td>\n",
       "      <td>1984-06-17</td>\n",
       "      <td>1222.6</td>\n",
       "      <td>1.0</td>\n",
       "      <td>4 days</td>\n",
       "    </tr>\n",
       "    <tr>\n",
       "      <th>15</th>\n",
       "      <td>Winter Storm, Cold Wave (January 1985)</td>\n",
       "      <td>Winter Storm</td>\n",
       "      <td>1985-01-19</td>\n",
       "      <td>1985-01-22</td>\n",
       "      <td>2251.3</td>\n",
       "      <td>150.0</td>\n",
       "      <td>3 days</td>\n",
       "    </tr>\n",
       "    <tr>\n",
       "      <th>16</th>\n",
       "      <td>Florida Freeze (January 1985)</td>\n",
       "      <td>Freeze</td>\n",
       "      <td>1985-01-20</td>\n",
       "      <td>1985-01-22</td>\n",
       "      <td>3228.0</td>\n",
       "      <td>0.0</td>\n",
       "      <td>2 days</td>\n",
       "    </tr>\n",
       "    <tr>\n",
       "      <th>17</th>\n",
       "      <td>Ohio and Pennsylvania Tornado Outbreak (June 1...</td>\n",
       "      <td>Severe Storm</td>\n",
       "      <td>1985-05-31</td>\n",
       "      <td>1985-05-31</td>\n",
       "      <td>1584.0</td>\n",
       "      <td>89.0</td>\n",
       "      <td>0 days</td>\n",
       "    </tr>\n",
       "    <tr>\n",
       "      <th>18</th>\n",
       "      <td>Hurricane Elena (September 1985)</td>\n",
       "      <td>Tropical Cyclone</td>\n",
       "      <td>1985-08-30</td>\n",
       "      <td>1985-09-03</td>\n",
       "      <td>3412.1</td>\n",
       "      <td>4.0</td>\n",
       "      <td>4 days</td>\n",
       "    </tr>\n",
       "    <tr>\n",
       "      <th>19</th>\n",
       "      <td>Hurricane Gloria (September 1985)</td>\n",
       "      <td>Tropical Cyclone</td>\n",
       "      <td>1985-09-26</td>\n",
       "      <td>1985-09-28</td>\n",
       "      <td>2242.9</td>\n",
       "      <td>11.0</td>\n",
       "      <td>2 days</td>\n",
       "    </tr>\n",
       "  </tbody>\n",
       "</table>\n",
       "</div>"
      ],
      "text/plain": [
       "                                               Nombre          Desastre  \\\n",
       "0    Southern Severe Storms and Flooding (April 1980)          Flooding   \n",
       "1                       Hurricane Allen (August 1980)  Tropical Cyclone   \n",
       "2   Central/Eastern Drought/Heat Wave (Summer-Fall...           Drought   \n",
       "3                       Florida Freeze (January 1981)            Freeze   \n",
       "4   Severe Storms, Flash Floods, Hail, Tornadoes (...      Severe Storm   \n",
       "5   Midwest/Southeast/Northeast Winter Storm, Cold...      Winter Storm   \n",
       "6     Midwest/Plains/Southeast Tornadoes (April 1982)      Severe Storm   \n",
       "7                           Severe Storms (June 1982)      Severe Storm   \n",
       "8   Gulf States Storms and Flooding (December 1982...          Flooding   \n",
       "9   Western Storms and Flooding (December 1982-Mar...          Flooding   \n",
       "10                     Hurricane Alicia (August 1983)  Tropical Cyclone   \n",
       "11                    Southeast Drought (Summer 1983)           Drought   \n",
       "12                 Freeze / Cold Wave (December 1983)            Freeze   \n",
       "13     Tornadoes, Severe Storms, Floods (Spring 1984)      Severe Storm   \n",
       "14                 Severe Storms and Hail (June 1984)      Severe Storm   \n",
       "15             Winter Storm, Cold Wave (January 1985)      Winter Storm   \n",
       "16                      Florida Freeze (January 1985)            Freeze   \n",
       "17  Ohio and Pennsylvania Tornado Outbreak (June 1...      Severe Storm   \n",
       "18                   Hurricane Elena (September 1985)  Tropical Cyclone   \n",
       "19                  Hurricane Gloria (September 1985)  Tropical Cyclone   \n",
       "\n",
       "   Fecha Inicio  Fecha Fin  Costo Millones de Dolares  Muertes Duracion Evento  \n",
       "0    1980-04-10 1980-04-17                     2473.8      7.0          7 days  \n",
       "1    1980-08-07 1980-08-11                     2012.0     13.0          4 days  \n",
       "2    1980-06-01 1980-11-30                    36573.0   1260.0        182 days  \n",
       "3    1981-01-12 1981-01-14                     1864.7      0.0          2 days  \n",
       "4    1981-05-05 1981-05-10                     1268.6     20.0          5 days  \n",
       "5    1982-01-08 1982-01-16                     1992.7     85.0          8 days  \n",
       "6    1982-04-02 1982-04-04                     1444.8     33.0          2 days  \n",
       "7    1982-05-31 1982-06-10                     1420.6     30.0         10 days  \n",
       "8    1982-12-01 1983-01-15                     4454.6     45.0         45 days  \n",
       "9    1982-12-13 1983-03-31                     4348.9     50.0        108 days  \n",
       "10   1983-08-17 1983-08-20                     8490.0     21.0          3 days  \n",
       "11   1983-06-01 1983-08-31                     8595.9      0.0         91 days  \n",
       "12   1983-12-15 1983-12-25                     5816.9    151.0         10 days  \n",
       "13   1984-03-27 1984-04-07                     1670.5     80.0         11 days  \n",
       "14   1984-06-13 1984-06-17                     1222.6      1.0          4 days  \n",
       "15   1985-01-19 1985-01-22                     2251.3    150.0          3 days  \n",
       "16   1985-01-20 1985-01-22                     3228.0      0.0          2 days  \n",
       "17   1985-05-31 1985-05-31                     1584.0     89.0          0 days  \n",
       "18   1985-08-30 1985-09-03                     3412.1      4.0          4 days  \n",
       "19   1985-09-26 1985-09-28                     2242.9     11.0          2 days  "
      ]
     },
     "execution_count": 2,
     "metadata": {},
     "output_type": "execute_result"
    }
   ],
   "source": [
    "df = pd.read_excel(r\"C:\\Users\\marcos.sandovalr\\Documents\\Marcos Privada\\Python Big Data\\Python-TensorFlow-for-Machine-Learning-Neural-Network-Text-Classification-Tutorial\\Eventos-US.xlsx\")\n",
    "df['Duracion Evento'] =  (df['Fecha Fin'] - df['Fecha Inicio'])\n",
    "df.head(20)"
   ]
  },
  {
   "cell_type": "code",
   "execution_count": 3,
   "id": "eb972684",
   "metadata": {},
   "outputs": [],
   "source": [
    "x = df[\"Costo Millones de Dolares\"]\n",
    "Q1 = np.percentile(x,25)\n",
    "Q3 = np.percentile(x,75)\n",
    "rangointer = Q3 - Q1"
   ]
  },
  {
   "cell_type": "code",
   "execution_count": 4,
   "id": "6083d99e",
   "metadata": {},
   "outputs": [],
   "source": [
    "umbralsuperior = Q3 + 1.5*rangointer\n",
    "umbralinferior = Q1 - 1.5*rangointer"
   ]
  },
  {
   "cell_type": "code",
   "execution_count": 5,
   "id": "a7ba1711",
   "metadata": {},
   "outputs": [
    {
     "data": {
      "text/plain": [
       "9567.275000000001"
      ]
     },
     "execution_count": 5,
     "metadata": {},
     "output_type": "execute_result"
    }
   ],
   "source": [
    "umbralsuperior"
   ]
  },
  {
   "cell_type": "code",
   "execution_count": 6,
   "id": "32b73ac0",
   "metadata": {},
   "outputs": [
    {
     "data": {
      "text/plain": [
       "-3320.525"
      ]
     },
     "execution_count": 6,
     "metadata": {},
     "output_type": "execute_result"
    }
   ],
   "source": [
    "umbralinferior"
   ]
  },
  {
   "cell_type": "code",
   "execution_count": 8,
   "id": "2d5c241f",
   "metadata": {},
   "outputs": [
    {
     "data": {
      "text/plain": [
       "13.312693498452013"
      ]
     },
     "execution_count": 8,
     "metadata": {},
     "output_type": "execute_result"
    }
   ],
   "source": [
    "np.mean(x > umbralsuperior) * 100"
   ]
  },
  {
   "cell_type": "code",
   "execution_count": 10,
   "id": "ffc10a82",
   "metadata": {},
   "outputs": [
    {
     "data": {
      "text/plain": [
       "0.0"
      ]
     },
     "execution_count": 10,
     "metadata": {},
     "output_type": "execute_result"
    }
   ],
   "source": [
    "np.mean(x < umbralinferior) * 100"
   ]
  },
  {
   "cell_type": "code",
   "execution_count": 12,
   "id": "7b043760",
   "metadata": {},
   "outputs": [],
   "source": [
    "from sklearn.covariance import EllipticEnvelope"
   ]
  },
  {
   "cell_type": "code",
   "execution_count": 13,
   "id": "cf5986d3",
   "metadata": {},
   "outputs": [],
   "source": [
    "outliers = EllipticEnvelope(contamination=.01)"
   ]
  },
  {
   "cell_type": "code",
   "execution_count": 17,
   "id": "77818744",
   "metadata": {},
   "outputs": [],
   "source": [
    "var_list = [\"Muertes\", \"Costo Millones de Dolares\"]"
   ]
  },
  {
   "cell_type": "code",
   "execution_count": 18,
   "id": "608a58c8",
   "metadata": {},
   "outputs": [],
   "source": [
    "x = np.array(df.loc[:,var_list].dropna())"
   ]
  },
  {
   "cell_type": "code",
   "execution_count": 19,
   "id": "fde7d53a",
   "metadata": {},
   "outputs": [
    {
     "data": {
      "text/plain": [
       "EllipticEnvelope(contamination=0.01)"
      ]
     },
     "execution_count": 19,
     "metadata": {},
     "output_type": "execute_result"
    }
   ],
   "source": [
    "outliers.fit(x)"
   ]
  },
  {
   "cell_type": "code",
   "execution_count": 20,
   "id": "cd613b01",
   "metadata": {},
   "outputs": [],
   "source": [
    "pred = outliers.predict(x)"
   ]
  },
  {
   "cell_type": "code",
   "execution_count": 21,
   "id": "87e414fc",
   "metadata": {},
   "outputs": [
    {
     "data": {
      "text/plain": [
       "array([ 1,  1, -1,  1,  1,  1,  1,  1,  1,  1,  1,  1,  1,  1,  1,  1,  1,\n",
       "        1,  1,  1,  1,  1,  1,  1,  1,  1,  1,  1,  1,  1,  1,  1,  1,  1,\n",
       "        1,  1,  1,  1,  1,  1,  1,  1,  1,  1,  1,  1,  1,  1,  1,  1,  1,\n",
       "        1,  1,  1,  1,  1,  1,  1,  1,  1,  1,  1, -1,  1,  1,  1,  1,  1,\n",
       "        1,  1,  1,  1,  1,  1,  1,  1,  1,  1,  1,  1,  1,  1,  1,  1,  1,\n",
       "        1,  1,  1,  1,  1,  1,  1,  1,  1,  1,  1,  1,  1,  1,  1,  1,  1,\n",
       "        1,  1,  1,  1,  1,  1,  1,  1,  1,  1,  1,  1,  1, -1,  1,  1,  1,\n",
       "        1,  1,  1,  1,  1,  1,  1,  1,  1,  1,  1,  1,  1,  1,  1,  1,  1,\n",
       "        1,  1,  1,  1,  1,  1,  1,  1,  1,  1,  1,  1,  1,  1,  1,  1,  1,\n",
       "        1,  1,  1,  1,  1,  1,  1,  1,  1,  1,  1,  1,  1,  1,  1,  1,  1,\n",
       "        1,  1,  1,  1,  1,  1,  1,  1,  1,  1,  1,  1,  1,  1,  1,  1,  1,\n",
       "        1,  1,  1,  1,  1,  1,  1,  1,  1,  1,  1,  1,  1,  1,  1,  1,  1,\n",
       "        1,  1,  1,  1,  1,  1,  1,  1,  1,  1,  1,  1,  1,  1,  1,  1,  1,\n",
       "        1,  1,  1,  1,  1,  1,  1,  1,  1,  1,  1,  1,  1,  1,  1,  1,  1,\n",
       "        1,  1,  1,  1,  1,  1,  1,  1,  1,  1,  1, -1,  1,  1,  1,  1,  1,\n",
       "        1,  1,  1,  1,  1,  1,  1,  1,  1,  1,  1,  1,  1,  1,  1,  1,  1,\n",
       "        1,  1,  1,  1,  1,  1,  1,  1,  1,  1,  1,  1,  1,  1,  1,  1,  1,\n",
       "        1,  1,  1,  1,  1,  1,  1,  1,  1,  1,  1,  1,  1,  1,  1,  1,  1,\n",
       "        1,  1,  1,  1,  1,  1,  1,  1,  1,  1,  1,  1,  1,  1,  1,  1,  1])"
      ]
     },
     "execution_count": 21,
     "metadata": {},
     "output_type": "execute_result"
    }
   ],
   "source": [
    "pred"
   ]
  },
  {
   "cell_type": "code",
   "execution_count": 22,
   "id": "50e3e711",
   "metadata": {},
   "outputs": [],
   "source": [
    "elips_outliers = np.where(pred == -1)"
   ]
  },
  {
   "cell_type": "code",
   "execution_count": 23,
   "id": "e338cd8f",
   "metadata": {},
   "outputs": [
    {
     "data": {
      "text/plain": [
       "(array([  2,  62, 115, 249], dtype=int64),)"
      ]
     },
     "execution_count": 23,
     "metadata": {},
     "output_type": "execute_result"
    }
   ],
   "source": [
    "elips_outliers"
   ]
  },
  {
   "cell_type": "code",
   "execution_count": null,
   "id": "3c0d267c",
   "metadata": {},
   "outputs": [],
   "source": []
  }
 ],
 "metadata": {
  "kernelspec": {
   "display_name": "Python 3 (ipykernel)",
   "language": "python",
   "name": "python3"
  },
  "language_info": {
   "codemirror_mode": {
    "name": "ipython",
    "version": 3
   },
   "file_extension": ".py",
   "mimetype": "text/x-python",
   "name": "python",
   "nbconvert_exporter": "python",
   "pygments_lexer": "ipython3",
   "version": "3.9.7"
  }
 },
 "nbformat": 4,
 "nbformat_minor": 5
}
